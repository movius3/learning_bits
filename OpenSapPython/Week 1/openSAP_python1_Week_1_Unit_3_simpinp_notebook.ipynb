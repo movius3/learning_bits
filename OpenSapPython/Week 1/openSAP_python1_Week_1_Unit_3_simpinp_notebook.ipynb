{
 "cells": [
  {
   "cell_type": "markdown",
   "metadata": {},
   "source": [
    "# Inputs and outputs\n",
    "## Outputs\n",
    "\n",
    "When a cell of a Jupyter Notebook is executed, the return value (the result) of the last statement is printed below the cell. However,\n",
    "if the last statement does not have a return value (e.g. assigning a value to a variable does not have one), there will be no\n",
    "output. \n",
    "\n",
    "Thus, working with this kind of output has two drawbacks: First, only the result of the last statement is given as output. Second, if the last statement does not have a return value, there is no output at all!\n",
    "\n",
    "Using the Python function `print()`, it is possible overcome these drawbacks. The argument within the paranthesis will be printed as output below the cell. (There will be a complete chapter about functions. Just briefly: A function consists of a function name (here *print*) followed by a pair of paranthesis. Within these paranthesis there can be one or several arguments, which are separated by commas.)"
   ]
  },
  {
   "cell_type": "code",
   "execution_count": 1,
   "metadata": {},
   "outputs": [
    {
     "name": "stdout",
     "output_type": "stream",
     "text": [
      "Hello\n",
      "42\n",
      "Joey\n"
     ]
    }
   ],
   "source": [
    "print(\"Hello\")\n",
    "print(42)\n",
    "\n",
    "name = \"Joey\"\n",
    "print(name)"
   ]
  },
  {
   "cell_type": "markdown",
   "metadata": {},
   "source": [
    "The desired output is passed to the `print()` function as an argument. It is also possible to provide multiple parameters to\n",
    "the `print` function. In this case the parameters must be separated by a comma (`,`)."
   ]
  },
  {
   "cell_type": "code",
   "execution_count": 5,
   "metadata": {},
   "outputs": [
    {
     "name": "stdout",
     "output_type": "stream",
     "text": [
      "Joey Ramone\n"
     ]
    }
   ],
   "source": [
    "name = \"Joey\"\n",
    "lastname = \"Ramone\"\n",
    "\n",
    "print(name, lastname)"
   ]
  },
  {
   "cell_type": "markdown",
   "metadata": {},
   "source": [
    "# Inputs\n",
    "Remember the exercise to calculate the surface area and volume of a cuboid? Calculating the values for a new cuboid has\n",
    "been quite tedious so far.\n",
    "\n",
    "Each time you need to:\n",
    "- Go to the cell of the notebook and change the Python program\n",
    "- Execute the cell again\n",
    "\n",
    "It would be much better if the program asked for the data to be processed as *input*. The Python program should be\n",
    "independent of specific values. The specific values should be provided as input to the program. This is the classic\n",
    "structure of a program according to the IPO principle: input → processing → output"
   ]
  },
  {
   "cell_type": "markdown",
   "metadata": {},
   "source": [
    "### The `input()` function\n",
    "\n",
    "The `input()` function can be used to read input from the user. A typical call of the function `input()` is:\n",
    "\n",
    "```python\n",
    "i = input(\"Please enter a number:\")\n",
    "print(i)\n",
    "```"
   ]
  },
  {
   "cell_type": "code",
   "execution_count": 4,
   "metadata": {},
   "outputs": [
    {
     "name": "stdout",
     "output_type": "stream",
     "text": [
      "44\n"
     ]
    }
   ],
   "source": [
    "i = input(\"Please insert a number: \")\n",
    "print(i)"
   ]
  },
  {
   "cell_type": "markdown",
   "metadata": {},
   "source": [
    "The function `input()` first outputs the given argument *(\"Please ...\")*. After that, the function waits for an input\n"
   ]
  },
  {
   "cell_type": "markdown",
   "metadata": {},
   "source": [
    "from the user. The user enters a value and finishes the input with the return key (enter key). The entered value is\n",
    "assigned to the variable `i`."
   ]
  },
  {
   "cell_type": "markdown",
   "metadata": {},
   "source": [
    "### Exercise\n",
    "Write a program that uses `input()` to retrieve values for first name, last name, and email address. Output the entered\n",
    "values afterwards."
   ]
  },
  {
   "cell_type": "code",
   "execution_count": 8,
   "metadata": {},
   "outputs": [
    {
     "name": "stdout",
     "output_type": "stream",
     "text": [
      "Hi A D your email address is myemail@email.com\n"
     ]
    }
   ],
   "source": [
    "first_name = input(\"Please Enter Your First Name\")\n",
    "last_name = input(\"Please enter your last name\")\n",
    "email_address = input(\"Please enter your email address\")\n",
    "print(\"Hi\", first_name, last_name, \"your email address is\", email_address)"
   ]
  },
  {
   "cell_type": "markdown",
   "metadata": {},
   "source": [
    "### Exercise 2\n",
    "\n",
    "Write a program that uses `input()` to accept two numbers from a user and output the sum and the product of both numbers.\n",
    "\n",
    "Expected form of the output:\n",
    "The sum is 30.\n",
    "The product is 225."
   ]
  },
  {
   "cell_type": "code",
   "execution_count": 9,
   "metadata": {},
   "outputs": [
    {
     "name": "stdout",
     "output_type": "stream",
     "text": [
      "55\n"
     ]
    },
    {
     "ename": "TypeError",
     "evalue": "can't multiply sequence by non-int of type 'str'",
     "output_type": "error",
     "traceback": [
      "\u001b[1;31m---------------------------------------------------------------------------\u001b[0m",
      "\u001b[1;31mTypeError\u001b[0m                                 Traceback (most recent call last)",
      "\u001b[1;32mc:\\Users\\amovi\\OneDrive\\Documents\\GitHub local\\learning_bits\\OpenSapPython\\Week1\\openSAP_python1_Week_1_Unit_3_simpinp_notebook.ipynb Cell 12'\u001b[0m in \u001b[0;36m<cell line: 6>\u001b[1;34m()\u001b[0m\n\u001b[0;32m      <a href='vscode-notebook-cell:/c%3A/Users/amovi/OneDrive/Documents/GitHub%20local/learning_bits/OpenSapPython/Week1/openSAP_python1_Week_1_Unit_3_simpinp_notebook.ipynb#ch0000011?line=3'>4</a>\u001b[0m sum_of_1_and_2 \u001b[39m=\u001b[39m number_1 \u001b[39m+\u001b[39m number_2\n\u001b[0;32m      <a href='vscode-notebook-cell:/c%3A/Users/amovi/OneDrive/Documents/GitHub%20local/learning_bits/OpenSapPython/Week1/openSAP_python1_Week_1_Unit_3_simpinp_notebook.ipynb#ch0000011?line=4'>5</a>\u001b[0m \u001b[39mprint\u001b[39m(sum_of_1_and_2)\n\u001b[1;32m----> <a href='vscode-notebook-cell:/c%3A/Users/amovi/OneDrive/Documents/GitHub%20local/learning_bits/OpenSapPython/Week1/openSAP_python1_Week_1_Unit_3_simpinp_notebook.ipynb#ch0000011?line=5'>6</a>\u001b[0m \u001b[39mprint\u001b[39m(number_1 \u001b[39m*\u001b[39;49m number_2)\n",
      "\u001b[1;31mTypeError\u001b[0m: can't multiply sequence by non-int of type 'str'"
     ]
    }
   ],
   "source": [
    "number_1 = input(\"Please enter the first number:\")\n",
    "number_2 = input(\"Please enter the first number:\")\n",
    "\n",
    "sum_of_1_and_2 = number_1 + number_2\n",
    "print(sum_of_1_and_2)\n",
    "print(number_1 * number_2)"
   ]
  }
 ],
 "metadata": {
  "file_extension": ".py",
  "interpreter": {
   "hash": "ac59ebe37160ed0dfa835113d9b8498d9f09ceb179beaac4002f036b9467c963"
  },
  "kernelspec": {
   "display_name": "Python 3",
   "language": "python",
   "name": "python3"
  },
  "language_info": {
   "codemirror_mode": {
    "name": "ipython",
    "version": 3
   },
   "file_extension": ".py",
   "mimetype": "text/x-python",
   "name": "python",
   "nbconvert_exporter": "python",
   "pygments_lexer": "ipython3",
   "version": "3.10.2"
  },
  "mimetype": "text/x-python",
  "name": "python",
  "npconvert_exporter": "python",
  "pygments_lexer": "ipython3",
  "version": 3
 },
 "nbformat": 4,
 "nbformat_minor": 2
}
